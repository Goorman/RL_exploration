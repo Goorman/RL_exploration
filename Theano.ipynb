{
 "cells": [
  {
   "cell_type": "code",
   "execution_count": 1,
   "metadata": {
    "collapsed": false
   },
   "outputs": [],
   "source": [
    "import scipy\n",
    "import scipy.misc\n",
    "import numpy as np\n",
    "import random\n",
    "import tensorflow as tf\n",
    "import gym\n",
    "from tqdm import tqdm\n",
    "from tqdm import tqdm_notebook\n",
    "import os\n",
    "import matplotlib.pyplot as plt\n",
    "%matplotlib inline"
   ]
  },
  {
   "cell_type": "code",
   "execution_count": 2,
   "metadata": {
    "collapsed": true
   },
   "outputs": [],
   "source": [
    "import lasagne\n",
    "import theano.tensor as T\n",
    "import theano"
   ]
  },
  {
   "cell_type": "code",
   "execution_count": 3,
   "metadata": {
    "collapsed": false
   },
   "outputs": [],
   "source": [
    "%load_ext autoreload\n",
    "%autoreload 2"
   ]
  },
  {
   "cell_type": "code",
   "execution_count": 8,
   "metadata": {
    "collapsed": false
   },
   "outputs": [],
   "source": [
    "class LunarLanding_wrapper():\n",
    "    def __init__(self):\n",
    "        self.state_size = (1, 8)\n",
    "        self.game_title = \"LunarLander-v2\"\n",
    "        self.actions = [\"DO_NOTHING\", \"FIRE_LEFT\", \"FIRE_MAIN\", \"FIRE_RIGHT\"]\n",
    "        self.n_actions = len(self.actions)\n",
    "        try:\n",
    "            self.env = gym.make(self.game_title)\n",
    "        except:\n",
    "            print (\"ERROR : Can't find \" + self.game_title + \" environment.\")\n",
    "            return None\n",
    "        self.env.reset()\n",
    "    \n",
    "    def processState(self, state):\n",
    "        return state.reshape(1, -1)\n",
    "    \n",
    "    def processAction(self, action):\n",
    "        return action\n",
    "    \n",
    "    def make_reset(self):\n",
    "        state = self.env.reset()\n",
    "    \n",
    "        return self.processState(state)\n",
    "    \n",
    "    def make_step(self, action, render = False):\n",
    "        action = self.processAction(action)\n",
    "    \n",
    "        state, ret1, ret2, ret3 = self.env.step(action)\n",
    "    \n",
    "        if render:\n",
    "            self.env.render()\n",
    "    \n",
    "        return self.processState(state), ret1, ret2, ret3"
   ]
  },
  {
   "cell_type": "code",
   "execution_count": 9,
   "metadata": {
    "collapsed": false
   },
   "outputs": [],
   "source": [
    "class CartPole_wrapper():\n",
    "    def __init__(self):\n",
    "        self.state_size = (1, 4)\n",
    "        self.game_title = \"CartPole-v0\"\n",
    "        self.actions = [\"LEFT\", \"RIGHT\"]\n",
    "        self.n_actions = len(self.actions)\n",
    "        try:\n",
    "            self.env = gym.make(self.game_title)\n",
    "        except:\n",
    "            print (\"ERROR : Can't find \" + self.game_title + \" environment.\")\n",
    "            return None\n",
    "        self.env.reset()\n",
    "    \n",
    "    def processState(self, state):\n",
    "        return state.reshape(1, -1)\n",
    "    \n",
    "    def processAction(self, action):\n",
    "        return action\n",
    "    \n",
    "    def make_reset(self):\n",
    "        state = self.env.reset()\n",
    "    \n",
    "        return self.processState(state)\n",
    "    \n",
    "    def make_step(self, action, render = False):\n",
    "        action = self.processAction(action)\n",
    "    \n",
    "        state, ret1, ret2, ret3 = self.env.step(action)\n",
    "    \n",
    "        if render:\n",
    "            self.env.render()\n",
    "    \n",
    "        return self.processState(state), ret1, ret2, ret3"
   ]
  },
  {
   "cell_type": "code",
   "execution_count": 10,
   "metadata": {
    "collapsed": false
   },
   "outputs": [],
   "source": [
    "class AVQ_nn():\n",
    "    def __init__(self, channels_number = 4, image_shape = (1, 8), n_actions = 4, grad_clipping = 10, lr = 0.0001):\n",
    "        self.input_var = T.tensor4('input')\n",
    "        \n",
    "        self.n_actions = n_actions\n",
    "        self.build_network(channels_number, image_shape)\n",
    "        self.build_AVQ(grad_clipping, lr)\n",
    "        self.compile_network()\n",
    "        \n",
    "    def build_network(self, channels_number, image_shape):\n",
    "        self.l1 = lasagne.layers.InputLayer(shape=(None, channels_number, image_shape[0], image_shape[1]), \n",
    "                                            input_var = self.input_var)\n",
    "        self.l2 = lasagne.layers.DenseLayer(self.l1, 40, nonlinearity=lasagne.nonlinearities.leaky_rectify)\n",
    "        self.l3 = lasagne.layers.DenseLayer(self.l2, 40, nonlinearity=lasagne.nonlinearities.leaky_rectify)\n",
    "        self.outlayer = lasagne.layers.DenseLayer(self.l3, 50, nonlinearity=lasagne.nonlinearities.leaky_rectify)\n",
    "    \n",
    "    def build_AVQ(self, grad_clipping, lr):\n",
    "        self.l_advantage = lasagne.layers.DenseLayer(self.outlayer, self.n_actions)\n",
    "        self.l_value = lasagne.layers.DenseLayer(self.outlayer, 1)\n",
    "        \n",
    "        self.advantage, self.value = lasagne.layers.get_output([self.l_advantage, self.l_value])\n",
    "\n",
    "        self.average_advantage = T.mean(self.advantage, keepdims = True, axis = 1)\n",
    "        \n",
    "#        self.Qout = self.advantage + self.value - self.average_advantage\n",
    "        self.Qout = self.advantage + self.value * 0\n",
    "        self.predict = T.argmax(self.Qout, axis = 1)\n",
    "        \n",
    "        self.targetQ = T.fvector('targetQ')\n",
    "        self.actions = T.ivector('actions')\n",
    "        self.actions_onehot = T.extra_ops.to_one_hot(self.actions, self.n_actions, dtype=np.float32)\n",
    "        \n",
    "        self.Q = T.sum(self.Qout * self.actions_onehot, axis = 1)\n",
    "        \n",
    "        self.td_error = T.sqr(self.targetQ - self.Q)\n",
    "        self.loss = T.mean(self.td_error)\n",
    "        \n",
    "        params = self.get_all_params()\n",
    "        self.all_grads = T.grad(self.loss, params)\n",
    "        self.scaled_grads = lasagne.updates.total_norm_constraint(self.all_grads, grad_clipping)\n",
    "        self.updates = lasagne.updates.adam(self.scaled_grads, params, learning_rate=lr)\n",
    "        \n",
    "    def compile_network(self):\n",
    "        self.Qout_fn = theano.function([self.input_var], self.Qout)\n",
    "        self.actionpred_fn = theano.function([self.input_var], self.predict)\n",
    "        self.train_fn = theano.function([self.input_var, self.targetQ, self.actions], self.loss, updates = self.updates)\n",
    "    \n",
    "    def get_all_params(self):\n",
    "        return lasagne.layers.get_all_params([self.l_advantage, self.l_value], trainable = True)\n",
    "    \n",
    "    def get_all_params_values(self):\n",
    "        return lasagne.layers.get_all_param_values([self.l_advantage, self.l_value], trainable = True)\n",
    "    \n",
    "    def set_all_params_values(self, values):\n",
    "        return lasagne.layers.set_all_param_values([self.l_advantage, self.l_value], values, trainable = True)"
   ]
  },
  {
   "cell_type": "code",
   "execution_count": 11,
   "metadata": {
    "collapsed": true
   },
   "outputs": [],
   "source": [
    "class experience_buffer():\n",
    "    def __init__(self, buffer_size = 10000):\n",
    "        self.buffer = []\n",
    "        self.buffer_size = buffer_size\n",
    "    \n",
    "    def add(self, experience):\n",
    "        if len(self.buffer) + len(experience) >= self.buffer_size:\n",
    "            self.buffer[0:(len(experience)+len(self.buffer))-self.buffer_size] = []\n",
    "        self.buffer.extend(experience)\n",
    "            \n",
    "    def sample(self, size):\n",
    "        return np.reshape(np.array(random.sample(self.buffer,size)),[size,5])"
   ]
  },
  {
   "cell_type": "code",
   "execution_count": null,
   "metadata": {
    "collapsed": true
   },
   "outputs": [],
   "source": []
  },
  {
   "cell_type": "code",
   "execution_count": 12,
   "metadata": {
    "collapsed": false
   },
   "outputs": [],
   "source": [
    "class window_aggregator():\n",
    "    def __init__(self, window_length, state_shape):\n",
    "        self.state_shape = state_shape\n",
    "        self.window_length = window_length\n",
    "        \n",
    "        assert len(self.state_shape) == 2\n",
    "        assert self.window_length >= 1\n",
    "        \n",
    "        self.start_aggregator_shape = (window_length, state_shape[0], state_shape[1])\n",
    "                                             \n",
    "        self.aggregator = np.zeros(self.start_aggregator_shape)\n",
    "        \n",
    "    def reset(self):\n",
    "        self.aggregator = np.zeros(self.start_aggregator_shape)\n",
    "                                       \n",
    "    def add_state(self, state):\n",
    "        state = np.expand_dims(state, 0)\n",
    "        self.aggregator = np.append(self.aggregator, state, axis = 0)\n",
    "    \n",
    "    def get_window(self):\n",
    "        return self.aggregator[-self.window_length:,:,:]                                                                           "
   ]
  },
  {
   "cell_type": "code",
   "execution_count": null,
   "metadata": {
    "collapsed": true
   },
   "outputs": [],
   "source": []
  },
  {
   "cell_type": "code",
   "execution_count": 13,
   "metadata": {
    "collapsed": true
   },
   "outputs": [],
   "source": [
    "class egreedy_agent():\n",
    "    def __init__(self, n_actions, actionpred_fn, startE = 1, endE = 0.1, anneling_steps = 50000):\n",
    "        self.startE = startE\n",
    "        self.endE = endE\n",
    "        self.anneling_steps = anneling_steps\n",
    "        self.stepE = (self.startE - self.endE) / self.anneling_steps\n",
    "        self.n_actions = n_actions\n",
    "        self.actionpred_fn = actionpred_fn\n",
    "    \n",
    "    def choose_action(self, state, current_step):\n",
    "        if current_step > self.anneling_steps:\n",
    "            epsilon = self.endE\n",
    "        else:\n",
    "            epsilon = self.startE - self.stepE * current_step\n",
    "        \n",
    "        if np.random.rand(1) < epsilon:\n",
    "            a = np.random.randint(0, self.n_actions)\n",
    "        else:\n",
    "            a = self.actionpred_fn(np.expand_dims(state, axis = 0))[0]\n",
    "            \n",
    "        return a"
   ]
  },
  {
   "cell_type": "code",
   "execution_count": 14,
   "metadata": {
    "collapsed": false
   },
   "outputs": [],
   "source": [
    "class boltzman_agent:\n",
    "    def __init__(self, n_actions, Qout_fn, startT = 1000, endT = 0.1, anneling_steps = 50000):\n",
    "        self.startT = startT\n",
    "        self.endT = endT\n",
    "        self.anneling_steps = anneling_steps\n",
    "        self.logstep = (np.log(startT) - np.log(endT)) / anneling_steps\n",
    "        self.n_actions = n_actions\n",
    "        self.Qout_fn = Qout_fn\n",
    "    \n",
    "    def choose_action(self, state, current_step):\n",
    "        scores = self.Qout_fn(np.expand_dims(state, axis = 0))[0]\n",
    "        if current_step > self.anneling_steps:\n",
    "            exponents = np.exp((scores - np.max(scores)) / self.endT)\n",
    "        else:\n",
    "            current_temp = self.startT / np.exp(self.logstep * current_step)\n",
    "            exponents = np.exp((scores - np.max(scores)) / current_temp)\n",
    "        probs = exponents / np.sum(exponents)\n",
    "        return np.random.choice(self.n_actions, p = probs)"
   ]
  },
  {
   "cell_type": "code",
   "execution_count": null,
   "metadata": {
    "collapsed": true
   },
   "outputs": [],
   "source": []
  },
  {
   "cell_type": "code",
   "execution_count": 46,
   "metadata": {
    "collapsed": false
   },
   "outputs": [],
   "source": [
    "class DDQL():\n",
    "    def __init__(self, lparams, env, agent = {\"agent\":\"egreedy\", \"params\":{}}):\n",
    "        self.grad_clip = lparams[\"grad_clipping\"]\n",
    "        self.lr = lparams[\"learning_rate\"]\n",
    "        self.window_size = lparams[\"window_size\"]\n",
    "        self.batch_size = lparams[\"batch_size\"]\n",
    "        self.gamma = lparams[\"gamma\"]\n",
    "        self.MQN_updatefreq = lparams[\"MQN_updatefreq\"]\n",
    "        self.TQN_updatefreq = lparams[\"TQN_updatefreq\"]\n",
    "        self.TQN_updaterate = lparams[\"TQN_updaterate\"]\n",
    "        self.print_freq = lparams[\"print_freq\"]\n",
    "        self.pretrain_steps = lparams[\"pretrain_steps\"]\n",
    "        self.buffer_size = lparams[\"buffer_size\"]\n",
    "        self.pretrain_over = False\n",
    "        \n",
    "        self.env = env\n",
    "        self.mainQN = AVQ_nn(self.window_size, self.env.state_size, self.env.n_actions, self.grad_clip, self.lr)\n",
    "        self.targetQN = AVQ_nn(self.window_size, self.env.state_size, self.env.n_actions, self.grad_clip, self.lr)\n",
    "\n",
    "        self.jList = []\n",
    "        self.rList = []\n",
    "        self.total_steps = 0\n",
    "        \n",
    "        self.window = window_aggregator(self.window_size, self.env.state_size)\n",
    "        self.experience_storage = experience_buffer(self.buffer_size)\n",
    "        self.agent = self.getAgent(agent[\"agent\"], agent[\"params\"])\n",
    "            \n",
    "    def getAgent(self, agent, agentparams):\n",
    "        if agent == \"egreedy\":\n",
    "            return egreedy_agent(self.env.n_actions, self.mainQN.actionpred_fn, **agentparams)\n",
    "        elif agent == \"boltzman\":\n",
    "            return boltzman_agent(self.env.n_actions, self.mainQN.Qout_fn, **agentparams)\n",
    "        else:\n",
    "            raise ValueError(\"Unknown agent\")\n",
    "            \n",
    "    def updateTarget(self):\n",
    "        self.targetQN.set_all_params_values(self.mainQN.get_all_params_values())\n",
    "    \n",
    "    def discount_rewards(self, r):\n",
    "        return r\n",
    "        \n",
    "        discounted_r = np.zeros_like(r)\n",
    "        running_add = 0\n",
    "        for t in reversed(xrange(0, r.size)):\n",
    "            running_add = running_add * self.gamma + r[t]\n",
    "            discounted_r[t] = running_add\n",
    "        return discounted_r\n",
    "\n",
    "    def train(self, num_episodes, frame_limit, render = True):\n",
    "        self.updateTarget()\n",
    "        self.window.reset()\n",
    "            \n",
    "        for episode_num in tqdm_notebook(range(num_episodes), desc = \"RL train\"):\n",
    "            episode_storage = experience_buffer()\n",
    "            state = self.env.make_reset()\n",
    "            self.window.add_state(state)\n",
    "            window_state = self.window.get_window()\n",
    "                \n",
    "            for iteration in xrange(0, frame_limit):\n",
    "                action = self.agent.choose_action(window_state, self.total_steps)\n",
    "                new_state, reward, gameover, _ = self.env.make_step(action, render)\n",
    "                self.window.add_state(new_state)\n",
    "                new_window_state = self.window.get_window()\n",
    "                episode_storage.add(np.reshape(np.array([window_state, action, reward, new_window_state, gameover]),[1,5]))\n",
    "                    \n",
    "                if self.pretrain_over:\n",
    "                    self.total_steps += 1\n",
    "                \n",
    "                    if self.total_steps % (self.TQN_updatefreq) == 0:\n",
    "                        self.updateTarget()\n",
    "                \n",
    "                    if self.total_steps % (self.MQN_updatefreq) == 0:\n",
    "                        train_batch = self.experience_storage.sample(self.batch_size)\n",
    "                        new_state_batch = np.stack(train_batch[:,3])\n",
    "                        old_state_batch = np.stack(train_batch[:,0])\n",
    "                        Q1 = self.mainQN.actionpred_fn(new_state_batch)   \n",
    "                        Q2 = self.targetQN.Qout_fn(new_state_batch)\n",
    "#                        Q2 = self.mainQN.Qout_fn(new_state_batch)\n",
    "                        end_multiplier = -(train_batch[:,4] - 1)\n",
    "                        doubleQ = Q2[range(self.batch_size),Q1]\n",
    "                        targetQ = (train_batch[:,2] + (self.gamma * doubleQ * end_multiplier)).astype(np.float32)\n",
    "                        action_vector = (train_batch[:,1]).astype(np.int32)\n",
    "                        _ = self.mainQN.train_fn(old_state_batch, targetQ, action_vector)\n",
    "                         \n",
    "                else:\n",
    "                    self.pretrain_steps -= 1;\n",
    "                    if self.pretrain_steps <= 0:\n",
    "                        self.pretrain_over = True\n",
    "                        \n",
    "                state = new_state\n",
    "                window_state = new_window_state\n",
    "            \n",
    "                if gameover:\n",
    "                    self.window.reset()\n",
    "                    break\n",
    "    \n",
    "            episode_rewards = np.array(episode_storage.buffer)[:,2]\n",
    "            total_reward = np.sum(episode_rewards)\n",
    "            discount_rewards = self.discount_rewards(episode_rewards)\n",
    "            buffer_array = np.array(episode_storage.buffer)\n",
    "            buffer_array[:,2] = discount_rewards\n",
    "            self.experience_storage.add(zip(buffer_array))\n",
    "            self.jList.append(iteration)\n",
    "            self.rList.append(total_reward)\n",
    "            if len(self.rList) % self.print_freq == 0:\n",
    "                tqdm.write(\" \".join([\"========= Episode\", str(episode_num), \"================================================\"]))\n",
    "                tqdm.write(\" \".join([\"Total steps:\", str(self.total_steps)]))\n",
    "                tqdm.write(\" \".join([\"Episode rewards, last 10:\", str(self.rList[-10:])]))\n",
    "                tqdm.write(\" \".join([\"Mean over last\", str(self.print_freq), \"episodes:\", str(np.mean(self.rList[-self.print_freq:]))]))\n",
    "                tqdm.write(\" \".join([\"Episode lengths, last 10:\", str(self.jList[-10:])]))\n",
    "                tqdm.write(\"===================================================================\" + \"=\" * len(str(episode_num)))"
   ]
  },
  {
   "cell_type": "code",
   "execution_count": 73,
   "metadata": {
    "collapsed": true
   },
   "outputs": [],
   "source": [
    "def plot_rewards(ddqlmodel, meanwindow = 250):\n",
    "    rlist = [ddqlmodel.rList[0]] * meanwindow + ddqlmodel.rList\n",
    "    x = [np.mean(rlist[k:k+meanwindow]) for k in range(len(rlist) - meanwindow)]\n",
    "    plt.plot(np.arange(len(x)), x)"
   ]
  },
  {
   "cell_type": "code",
   "execution_count": 47,
   "metadata": {
    "collapsed": false
   },
   "outputs": [
    {
     "name": "stderr",
     "output_type": "stream",
     "text": [
      "[2017-04-30 02:05:37,496] Making new env: CartPole-v0\n"
     ]
    }
   ],
   "source": [
    "#envhandle = LunarLanding_wrapper()\n",
    "envhandle = CartPole_wrapper()"
   ]
  },
  {
   "cell_type": "code",
   "execution_count": null,
   "metadata": {
    "collapsed": true
   },
   "outputs": [],
   "source": [
    "lparams = {\"grad_clipping\" : 50,\n",
    "           \"learning_rate\" : 0.005,\n",
    "           \"window_size\" : 1,\n",
    "           \"batch_size\" : 8,\n",
    "           \"buffer_size\" : 128,\n",
    "           \"gamma\" : 0.98,\n",
    "           \"MQN_updatefreq\" : 1,\n",
    "           \"TQN_updatefreq\" : 16,\n",
    "           \"TQN_updaterate\" : 0.01,\n",
    "           \"print_freq\" : 500,\n",
    "           \"pretrain_steps\" : 5000,\n",
    "           \"render\" : False}"
   ]
  },
  {
   "cell_type": "code",
   "execution_count": 49,
   "metadata": {
    "collapsed": true
   },
   "outputs": [],
   "source": [
    "egreedyagentinfo = {\"agent\" : \"egreedy\",\n",
    "                    \"params\" : {\"startE\": 0.5,\n",
    "                                \"endE\" : 0.1,\n",
    "                                \"anneling_steps\":1000}}"
   ]
  },
  {
   "cell_type": "code",
   "execution_count": 50,
   "metadata": {
    "collapsed": true
   },
   "outputs": [],
   "source": [
    "boltzmanagentinfo = {\"agent\" : \"boltzman\",\n",
    "                     \"params\" : {\"startT\": 10,\n",
    "                                 \"endT\" : 1,\n",
    "                                 \"anneling_steps\":10000}}"
   ]
  },
  {
   "cell_type": "code",
   "execution_count": 51,
   "metadata": {
    "collapsed": false
   },
   "outputs": [],
   "source": [
    "ddql = DDQL(lparams, envhandle, egreedyagentinfo)"
   ]
  },
  {
   "cell_type": "code",
   "execution_count": 52,
   "metadata": {
    "collapsed": false,
    "scrolled": true
   },
   "outputs": [
    {
     "name": "stdout",
     "output_type": "stream",
     "text": [
      "========= Episode 499 ================================================\n",
      "Total steps: 1083\n",
      "Episode rewards, last 10: [9.0, 10.0, 10.0, 10.0, 10.0, 10.0, 10.0, 10.0, 12.0, 10.0]\n",
      "Mean over last 500 episodes: 12.166\n",
      "Episode lengths, last 10: [8, 9, 9, 9, 9, 9, 9, 9, 11, 9]\n",
      "======================================================================\n",
      "========= Episode 999 ================================================\n",
      "Total steps: 6048\n",
      "Episode rewards, last 10: [10.0, 12.0, 11.0, 10.0, 12.0, 11.0, 9.0, 10.0, 8.0, 9.0]\n",
      "Mean over last 500 episodes: 9.93\n",
      "Episode lengths, last 10: [9, 11, 10, 9, 11, 10, 8, 9, 7, 8]\n",
      "======================================================================\n",
      "========= Episode 1499 ================================================\n",
      "Total steps: 10989\n",
      "Episode rewards, last 10: [10.0, 12.0, 10.0, 9.0, 11.0, 10.0, 11.0, 9.0, 10.0, 11.0]\n",
      "Mean over last 500 episodes: 9.882\n",
      "Episode lengths, last 10: [9, 11, 9, 8, 10, 9, 10, 8, 9, 10]\n",
      "=======================================================================\n",
      "========= Episode 1999 ================================================\n",
      "Total steps: 64722\n",
      "Episode rewards, last 10: [103.0, 93.0, 127.0, 70.0, 124.0, 40.0, 15.0, 359.0, 67.0, 132.0]\n",
      "Mean over last 500 episodes: 107.466\n",
      "Episode lengths, last 10: [102, 92, 126, 69, 123, 39, 14, 358, 66, 131]\n",
      "=======================================================================\n",
      "========= Episode 2499 ================================================\n",
      "Total steps: 144541\n",
      "Episode rewards, last 10: [90.0, 61.0, 151.0, 275.0, 284.0, 444.0, 373.0, 316.0, 36.0, 139.0]\n",
      "Mean over last 500 episodes: 159.638\n",
      "Episode lengths, last 10: [89, 60, 150, 274, 283, 443, 372, 315, 35, 138]\n",
      "=======================================================================\n",
      "========= Episode 2999 ================================================\n",
      "Total steps: 241156\n",
      "Episode rewards, last 10: [11.0, 12.0, 25.0, 186.0, 152.0, 263.0, 151.0, 202.0, 188.0, 343.0]\n",
      "Mean over last 500 episodes: 193.23\n",
      "Episode lengths, last 10: [10, 11, 24, 185, 151, 262, 150, 201, 187, 342]\n",
      "=======================================================================\n",
      "========= Episode 3499 ================================================\n",
      "Total steps: 344293\n",
      "Episode rewards, last 10: [13.0, 173.0, 11.0, 190.0, 169.0, 134.0, 122.0, 117.0, 56.0, 99.0]\n",
      "Mean over last 500 episodes: 206.274\n",
      "Episode lengths, last 10: [12, 172, 10, 189, 168, 133, 121, 116, 55, 98]\n",
      "=======================================================================\n",
      "========= Episode 3999 ================================================\n",
      "Total steps: 422688\n",
      "Episode rewards, last 10: [77.0, 104.0, 46.0, 52.0, 81.0, 213.0, 168.0, 352.0, 100.0, 69.0]\n",
      "Mean over last 500 episodes: 156.79\n",
      "Episode lengths, last 10: [76, 103, 45, 51, 80, 212, 167, 351, 99, 68]\n",
      "=======================================================================\n",
      "========= Episode 4499 ================================================\n",
      "Total steps: 519333\n",
      "Episode rewards, last 10: [500.0, 256.0, 71.0, 116.0, 500.0, 500.0, 500.0, 424.0, 12.0, 110.0]\n",
      "Mean over last 500 episodes: 193.29\n",
      "Episode lengths, last 10: [499, 255, 70, 115, 499, 499, 499, 423, 11, 109]\n",
      "=======================================================================\n",
      "========= Episode 4999 ================================================\n",
      "Total steps: 594368\n",
      "Episode rewards, last 10: [227.0, 500.0, 500.0, 500.0, 500.0, 181.0, 500.0, 500.0, 126.0, 148.0]\n",
      "Mean over last 500 episodes: 150.07\n",
      "Episode lengths, last 10: [226, 499, 499, 499, 499, 180, 499, 499, 125, 147]\n",
      "=======================================================================\n",
      "\n"
     ]
    }
   ],
   "source": [
    "ddql.train(num_episodes = 5000, frame_limit = 500, render = False)"
   ]
  },
  {
   "cell_type": "code",
   "execution_count": 75,
   "metadata": {
    "collapsed": false
   },
   "outputs": [
    {
     "data": {
      "image/png": "[encoded data removed]",
      "text/plain": [
       "<matplotlib.figure.Figure at 0x10f313610>"
      ]
     },
     "metadata": {},
     "output_type": "display_data"
    }
   ],
   "source": [
    "plot_rewards(ddql)"
   ]
  },
  {
   "cell_type": "markdown",
   "metadata": {
    "collapsed": true
   },
   "source": [
    "Е-жадная стратегия."
   ]
  },
  {
   "cell_type": "code",
   "execution_count": 61,
   "metadata": {
    "collapsed": true
   },
   "outputs": [],
   "source": [
    "ddql2 = DDQL(lparams, envhandle, egreedyagentinfo)"
   ]
  },
  {
   "cell_type": "code",
   "execution_count": 62,
   "metadata": {
    "collapsed": false,
    "scrolled": true
   },
   "outputs": [
    {
     "name": "stdout",
     "output_type": "stream",
     "text": [
      "========= Episode 499 ================================================\n",
      "Total steps: 10113\n",
      "Episode rewards, last 10: [141.0, 240.0, 145.0, 266.0, 94.0, 122.0, 130.0, 136.0, 169.0, 279.0]\n",
      "Mean over last 500 episodes: 30.226\n",
      "Episode lengths, last 10: [140, 239, 144, 265, 93, 121, 129, 135, 168, 278]\n",
      "======================================================================\n",
      "========= Episode 999 ================================================\n",
      "Total steps: 93181\n",
      "Episode rewards, last 10: [39.0, 162.0, 19.0, 26.0, 13.0, 245.0, 30.0, 128.0, 17.0, 32.0]\n",
      "Mean over last 500 episodes: 166.136\n",
      "Episode lengths, last 10: [38, 161, 18, 25, 12, 244, 29, 127, 16, 31]\n",
      "======================================================================\n",
      "========= Episode 1499 ================================================\n",
      "Total steps: 191764\n",
      "Episode rewards, last 10: [484.0, 500.0, 500.0, 201.0, 18.0, 141.0, 196.0, 13.0, 307.0, 119.0]\n",
      "Mean over last 500 episodes: 197.166\n",
      "Episode lengths, last 10: [483, 499, 499, 200, 17, 140, 195, 12, 306, 118]\n",
      "=======================================================================\n",
      "========= Episode 1999 ================================================\n",
      "Total steps: 291436\n",
      "Episode rewards, last 10: [115.0, 234.0, 185.0, 182.0, 180.0, 139.0, 151.0, 213.0, 172.0, 194.0]\n",
      "Mean over last 500 episodes: 199.344\n",
      "Episode lengths, last 10: [114, 233, 184, 181, 179, 138, 150, 212, 171, 193]\n",
      "=======================================================================\n",
      "========= Episode 2499 ================================================\n",
      "Total steps: 409856\n",
      "Episode rewards, last 10: [500.0, 500.0, 500.0, 500.0, 28.0, 53.0, 32.0, 12.0, 310.0, 500.0]\n",
      "Mean over last 500 episodes: 236.84\n",
      "Episode lengths, last 10: [499, 499, 499, 499, 27, 52, 31, 11, 309, 499]\n",
      "=======================================================================\n",
      "========= Episode 2999 ================================================\n",
      "Total steps: 543009\n",
      "Episode rewards, last 10: [356.0, 500.0, 195.0, 68.0, 33.0, 13.0, 11.0, 10.0, 28.0, 51.0]\n",
      "Mean over last 500 episodes: 266.306\n",
      "Episode lengths, last 10: [355, 499, 194, 67, 32, 12, 10, 9, 27, 50]\n",
      "=======================================================================\n",
      "========= Episode 3499 ================================================\n",
      "Total steps: 664664\n",
      "Episode rewards, last 10: [14.0, 79.0, 434.0, 46.0, 24.0, 500.0, 500.0, 10.0, 22.0, 14.0]\n",
      "Mean over last 500 episodes: 243.31\n",
      "Episode lengths, last 10: [13, 78, 433, 45, 23, 499, 499, 9, 21, 13]\n",
      "=======================================================================\n",
      "========= Episode 3999 ================================================\n",
      "Total steps: 768505\n",
      "Episode rewards, last 10: [500.0, 164.0, 152.0, 100.0, 86.0, 149.0, 500.0, 31.0, 500.0, 500.0]\n",
      "Mean over last 500 episodes: 207.682\n",
      "Episode lengths, last 10: [499, 163, 151, 99, 85, 148, 499, 30, 499, 499]\n",
      "=======================================================================\n",
      "========= Episode 4499 ================================================\n",
      "Total steps: 875143\n",
      "Episode rewards, last 10: [76.0, 11.0, 500.0, 500.0, 500.0, 500.0, 500.0, 500.0, 500.0, 500.0]\n",
      "Mean over last 500 episodes: 213.276\n",
      "Episode lengths, last 10: [75, 10, 499, 499, 499, 499, 499, 499, 499, 499]\n",
      "=======================================================================\n",
      "========= Episode 4999 ================================================\n",
      "Total steps: 990082\n",
      "Episode rewards, last 10: [107.0, 10.0, 16.0, 32.0, 354.0, 56.0, 500.0, 500.0, 500.0, 500.0]\n",
      "Mean over last 500 episodes: 229.878\n",
      "Episode lengths, last 10: [106, 9, 15, 31, 353, 55, 499, 499, 499, 499]\n",
      "=======================================================================\n",
      "\n"
     ]
    }
   ],
   "source": [
    "ddql2.train(num_episodes = 5000, frame_limit = 500, render = False)"
   ]
  },
  {
   "cell_type": "code",
   "execution_count": 76,
   "metadata": {
    "collapsed": false
   },
   "outputs": [
    {
     "data": {
      "image/png": "[encoded data removed]",
      "text/plain": [
       "<matplotlib.figure.Figure at 0x126d43990>"
      ]
     },
     "metadata": {},
     "output_type": "display_data"
    }
   ],
   "source": [
    "plot_rewards(ddql2)"
   ]
  },
  {
   "cell_type": "markdown",
   "metadata": {
    "collapsed": true
   },
   "source": [
    "Е-жадная стратегия."
   ]
  },
  {
   "cell_type": "code",
   "execution_count": 84,
   "metadata": {
    "collapsed": true
   },
   "outputs": [],
   "source": [
    "ddql4 = DDQL(lparams, envhandle, boltzmanagentinfo)"
   ]
  },
  {
   "cell_type": "code",
   "execution_count": 85,
   "metadata": {
    "collapsed": false,
    "scrolled": true
   },
   "outputs": [
    {
     "name": "stdout",
     "output_type": "stream",
     "text": [
      "========= Episode 499 ================================================\n",
      "Total steps: 36629\n",
      "Episode rewards, last 10: [136.0, 500.0, 302.0, 124.0, 500.0, 248.0, 148.0, 316.0, 37.0, 113.0]\n",
      "Mean over last 500 episodes: 83.258\n",
      "Episode lengths, last 10: [135, 499, 301, 123, 499, 247, 147, 315, 36, 112]\n",
      "======================================================================\n",
      "========= Episode 999 ================================================\n",
      "Total steps: 132740\n",
      "Episode rewards, last 10: [26.0, 62.0, 102.0, 147.0, 184.0, 204.0, 500.0, 207.0, 500.0, 500.0]\n",
      "Mean over last 500 episodes: 192.222\n",
      "Episode lengths, last 10: [25, 61, 101, 146, 183, 203, 499, 206, 499, 499]\n",
      "======================================================================\n",
      "========= Episode 1499 ================================================\n",
      "Total steps: 234274\n",
      "Episode rewards, last 10: [18.0, 148.0, 113.0, 29.0, 111.0, 18.0, 21.0, 202.0, 148.0, 393.0]\n",
      "Mean over last 500 episodes: 203.068\n",
      "Episode lengths, last 10: [17, 147, 112, 28, 110, 17, 20, 201, 147, 392]\n",
      "=======================================================================\n",
      "========= Episode 1999 ================================================\n",
      "Total steps: 324370\n",
      "Episode rewards, last 10: [239.0, 500.0, 344.0, 31.0, 93.0, 93.0, 500.0, 500.0, 178.0, 500.0]\n",
      "Mean over last 500 episodes: 180.192\n",
      "Episode lengths, last 10: [238, 499, 343, 30, 92, 92, 499, 499, 177, 499]\n",
      "=======================================================================\n",
      "========= Episode 2499 ================================================\n",
      "Total steps: 438896\n",
      "Episode rewards, last 10: [10.0, 10.0, 59.0, 228.0, 500.0, 500.0, 500.0, 146.0, 500.0, 500.0]\n",
      "Mean over last 500 episodes: 229.052\n",
      "Episode lengths, last 10: [9, 9, 58, 227, 499, 499, 499, 145, 499, 499]\n",
      "=======================================================================\n",
      "\n"
     ]
    }
   ],
   "source": [
    "ddql4.train(num_episodes = 2500, frame_limit = 500, render = False)"
   ]
  },
  {
   "cell_type": "code",
   "execution_count": 86,
   "metadata": {
    "collapsed": false
   },
   "outputs": [
    {
     "data": {
      "image/png": "[encoded data removed]",
      "text/plain": [
       "<matplotlib.figure.Figure at 0x12b742d10>"
      ]
     },
     "metadata": {},
     "output_type": "display_data"
    }
   ],
   "source": [
    "plot_rewards(ddql4)"
   ]
  },
  {
   "cell_type": "markdown",
   "metadata": {
    "collapsed": true
   },
   "source": [
    "Как видно из графиков(первые два - е-жадная стратегия, третий - стратегия с сглаживанием больцмана), процесс обучения нестабилен, т.е. алгоритм проводит неопределенное количество времени с маленькой наградой(зависит от начальной инициализации весов и последовательностью сгенерированных эпизодов окружения), только после чего он начинает обучаться."
   ]
  },
  {
   "cell_type": "markdown",
   "metadata": {},
   "source": [
    "Для построения наиболее иллюстративных графиков эффектов реализуемых алгоритмов необходимо запускать алгоритм несколько раз (желательно более десяти), и строить графики, показывающие средние значения и средние отклонения наград."
   ]
  },
  {
   "cell_type": "code",
   "execution_count": null,
   "metadata": {
    "collapsed": true
   },
   "outputs": [],
   "source": []
  }
 ],
 "metadata": {
  "anaconda-cloud": {},
  "kernelspec": {
   "display_name": "Python [conda root]",
   "language": "python",
   "name": "conda-root-py"
  },
  "language_info": {
   "codemirror_mode": {
    "name": "ipython",
    "version": 2
   },
   "file_extension": ".py",
   "mimetype": "text/x-python",
   "name": "python",
   "nbconvert_exporter": "python",
   "pygments_lexer": "ipython2",
   "version": "2.7.13"
  }
 },
 "nbformat": 4,
 "nbformat_minor": 0
}
